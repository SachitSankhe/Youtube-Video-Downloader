{
 "cells": [
  {
   "cell_type": "code",
   "execution_count": 3,
   "id": "747e06a7",
   "metadata": {},
   "outputs": [
    {
     "name": "stdout",
     "output_type": "stream",
     "text": [
      "Requirement already satisfied: pytube in c:\\users\\sachi\\anaconda3\\lib\\site-packages (11.0.2)\n",
      "Note: you may need to restart the kernel to use updated packages.\n"
     ]
    }
   ],
   "source": [
    "pip install --upgrade pytube\n"
   ]
  },
  {
   "cell_type": "code",
   "execution_count": null,
   "id": "94ea7271",
   "metadata": {
    "scrolled": true
   },
   "outputs": [],
   "source": [
    "# Importing necessary packages\n",
    "import tkinter as tk\n",
    "from tkinter import *\n",
    "from pytube import YouTube\n",
    "from tkinter import messagebox, filedialog\n",
    "from PIL import ImageTk, Image  \n",
    " \n",
    " \n",
    "# Defining CreateWidgets() function\n",
    "# to create necessary tkinter widgets\n",
    "def Widgets():\n",
    " \n",
    "    head_label = Label(window, text=\"YouTube Video Downloader Using Tkinter\",\n",
    "                       padx=15,\n",
    "                       pady=15,\n",
    "                       font=\"Roboto\",\n",
    "                       bg=\"teal\",\n",
    "                       fg=\"white\")\n",
    "    head_label.grid(row=1,\n",
    "                    column=1,\n",
    "                    pady=25,\n",
    "                    padx=10,\n",
    "                    columnspan=3)\n",
    "    \n",
    "    \n",
    "    link_label = Label(window,\n",
    "                       text=\"YouTube link :- \",\n",
    "                       font=\"Roboto\",\n",
    "                       bg=\"darkblue\",\n",
    "                       fg=\"Yellow\",\n",
    "                       pady=5,\n",
    "                       padx=5)\n",
    "    link_label.grid(row=2,\n",
    "                    column=0,\n",
    "                    pady=10,\n",
    "                    padx=5)\n",
    "    \n",
    " \n",
    "    window.linkText = Entry(window,\n",
    "                          width=40,\n",
    "                          textvariable=video_Link,\n",
    "                          font=\"Roboto\")\n",
    "    window.linkText.grid(row=2,\n",
    "                       column=1,\n",
    "                       pady=5,\n",
    "                       padx=5,\n",
    "                       columnspan=2)\n",
    " \n",
    " \n",
    "    destination_label = Label(window,\n",
    "                              text=\"Destination :\",\n",
    "                              bg=\"darkblue\",\n",
    "                              fg=\"Yellow\",\n",
    "                              font=\"Roboto\",\n",
    "                              pady=5,\n",
    "                              padx=20)\n",
    "    destination_label.grid(row=3,\n",
    "                           column=0,\n",
    "                           pady=5,\n",
    "                           padx=5)\n",
    " \n",
    " \n",
    "    window.destinationText = Entry(window,\n",
    "                                 width=27,\n",
    "                                 textvariable=download_Path,\n",
    "                                 font=\"Roboto\")\n",
    "    window.destinationText.grid(row=3,\n",
    "                              column=1,\n",
    "                              pady=5,\n",
    "                              padx=5)\n",
    " \n",
    " \n",
    "    browse_B = Button(window,\n",
    "                      text=\"Browse\",\n",
    "                      command=Browse,\n",
    "                      width=10,\n",
    "                      bg=\"bisque\",\n",
    "                      relief=GROOVE)\n",
    "    browse_B.grid(row=3,\n",
    "                  column=2,\n",
    "                  pady=1,\n",
    "                  padx=1)\n",
    " \n",
    "    Download_B = Button(window,\n",
    "                        text=\"Download the Video\",\n",
    "                        command=Download,\n",
    "                        width=20,\n",
    "                        bg=\"lightblue\",\n",
    "                        pady=10,\n",
    "                        padx=15,\n",
    "                        relief=GROOVE,\n",
    "                        font=\"Roboto\")\n",
    "    Download_B.grid(row=4,\n",
    "                    column=1,\n",
    "                    pady=20,\n",
    "                    padx=20)\n",
    " \n",
    " \n",
    "# Defining Browse() to select a\n",
    "# destination folder to save the video\n",
    " \n",
    "def Browse():\n",
    "    # Presenting user with a pop-up for\n",
    "    # directory selection. initialdir\n",
    "    # argument is optional Retrieving the\n",
    "    # user-input destination directory and\n",
    "    # storing it in downloadDirectory\n",
    "    download_Directory = filedialog.askdirectory(\n",
    "        initialdir=\"YOUR DIRECTORY PATH\", title=\"Save Video\")\n",
    " \n",
    "    # Displaying the directory in the directory\n",
    "    # textbox\n",
    "    download_Path.set(download_Directory)\n",
    " \n",
    "# Defining the  Download() function to download the video contaning the video link \n",
    "# and also asking where to save the video\n",
    " \n",
    " \n",
    "def Download():\n",
    " \n",
    "    Youtube_link = video_Link.get()\n",
    "    # select the optimal location for\n",
    "    # saving file's\n",
    "    download_Folder = download_Path.get()\n",
    "    \n",
    "    \n",
    "    # getting user-input Youtube Link\n",
    "    # Creating object of YouTube()\n",
    "    getVideo = YouTube(Youtube_link)\n",
    " \n",
    "    # Getting all the available streams of the\n",
    "    # youtube video and selecting the first\n",
    "    # from the list and filtering the video for 720p resolution\n",
    "    try:\n",
    "        videoStream = getVideo.streams.filter(res = \"720p\").first()\n",
    "    except:\n",
    "        videoStream = getVideo.streams.first()\n",
    "        \n",
    "    \n",
    " \n",
    "    # Downloading the video to destination directory\n",
    "    videoStream.download(download_Folder)\n",
    " \n",
    "    # Displaying the message\n",
    "    messagebox.showinfo(\"showinfo\", \"SUCCEESFULLY DOWNLOADED IN\\n\"+download_Folder)\n",
    " \n",
    " \n",
    "    \n",
    "# Creating object of tk class\n",
    "window = tk.Tk()\n",
    " \n",
    "# Setting the title, background color\n",
    "# and size of the tkinter window and\n",
    "# disabling the resizing property\n",
    "window.title(\"YouTube Video Downloader\")\n",
    "window.config(background = \"Teal\" )\n",
    "window.geometry(\"720x380\")\n",
    "window.resizable(False, False)\n",
    "\n",
    "\n",
    "\n",
    "# Creating the tkinter Variables\n",
    "video_Link = StringVar()\n",
    "download_Path = StringVar()\n",
    " \n",
    "# Calling the Widgets() function\n",
    "Widgets()\n",
    " \n",
    "# Defining infinite loop to run\n",
    "# application\n",
    "window.mainloop()"
   ]
  },
  {
   "cell_type": "code",
   "execution_count": 7,
   "id": "986a5ece",
   "metadata": {},
   "outputs": [
    {
     "name": "stdout",
     "output_type": "stream",
     "text": [
      "Requirement already satisfied: pytube in c:\\users\\sachi\\anaconda3\\lib\\site-packages (11.0.1)Note: you may need to restart the kernel to use updated packages.\n",
      "Collecting pytube\n",
      "  Using cached pytube-11.0.2-py3-none-any.whl (56 kB)\n",
      "\n",
      "Installing collected packages: pytube\n",
      "  Attempting uninstall: pytube\n",
      "    Found existing installation: pytube 11.0.1\n",
      "    Uninstalling pytube-11.0.1:\n",
      "      Successfully uninstalled pytube-11.0.1\n",
      "Successfully installed pytube-11.0.2\n"
     ]
    }
   ],
   "source": [
    "pip install --upgrade pytube\n"
   ]
  },
  {
   "cell_type": "code",
   "execution_count": 1,
   "id": "7014e863",
   "metadata": {},
   "outputs": [
    {
     "name": "stdout",
     "output_type": "stream",
     "text": [
      "[<Stream: itag=\"17\" mime_type=\"video/3gpp\" res=\"144p\" fps=\"7fps\" vcodec=\"mp4v.20.3\" acodec=\"mp4a.40.2\" progressive=\"True\" type=\"video\">, <Stream: itag=\"18\" mime_type=\"video/mp4\" res=\"360p\" fps=\"30fps\" vcodec=\"avc1.42001E\" acodec=\"mp4a.40.2\" progressive=\"True\" type=\"video\">, <Stream: itag=\"22\" mime_type=\"video/mp4\" res=\"720p\" fps=\"30fps\" vcodec=\"avc1.64001F\" acodec=\"mp4a.40.2\" progressive=\"True\" type=\"video\">, <Stream: itag=\"136\" mime_type=\"video/mp4\" res=\"720p\" fps=\"30fps\" vcodec=\"avc1.4d401f\" progressive=\"False\" type=\"video\">, <Stream: itag=\"247\" mime_type=\"video/webm\" res=\"720p\" fps=\"30fps\" vcodec=\"vp9\" progressive=\"False\" type=\"video\">, <Stream: itag=\"398\" mime_type=\"video/mp4\" res=\"720p\" fps=\"30fps\" vcodec=\"av01.0.05M.08\" progressive=\"False\" type=\"video\">, <Stream: itag=\"135\" mime_type=\"video/mp4\" res=\"480p\" fps=\"30fps\" vcodec=\"avc1.4d401f\" progressive=\"False\" type=\"video\">, <Stream: itag=\"244\" mime_type=\"video/webm\" res=\"480p\" fps=\"30fps\" vcodec=\"vp9\" progressive=\"False\" type=\"video\">, <Stream: itag=\"397\" mime_type=\"video/mp4\" res=\"480p\" fps=\"30fps\" vcodec=\"av01.0.04M.08\" progressive=\"False\" type=\"video\">, <Stream: itag=\"134\" mime_type=\"video/mp4\" res=\"360p\" fps=\"30fps\" vcodec=\"avc1.4d401e\" progressive=\"False\" type=\"video\">, <Stream: itag=\"243\" mime_type=\"video/webm\" res=\"360p\" fps=\"30fps\" vcodec=\"vp9\" progressive=\"False\" type=\"video\">, <Stream: itag=\"396\" mime_type=\"video/mp4\" res=\"360p\" fps=\"30fps\" vcodec=\"av01.0.01M.08\" progressive=\"False\" type=\"video\">, <Stream: itag=\"133\" mime_type=\"video/mp4\" res=\"240p\" fps=\"30fps\" vcodec=\"avc1.4d4015\" progressive=\"False\" type=\"video\">, <Stream: itag=\"242\" mime_type=\"video/webm\" res=\"240p\" fps=\"30fps\" vcodec=\"vp9\" progressive=\"False\" type=\"video\">, <Stream: itag=\"395\" mime_type=\"video/mp4\" res=\"240p\" fps=\"30fps\" vcodec=\"av01.0.00M.08\" progressive=\"False\" type=\"video\">, <Stream: itag=\"160\" mime_type=\"video/mp4\" res=\"144p\" fps=\"30fps\" vcodec=\"avc1.4d400c\" progressive=\"False\" type=\"video\">, <Stream: itag=\"278\" mime_type=\"video/webm\" res=\"144p\" fps=\"30fps\" vcodec=\"vp9\" progressive=\"False\" type=\"video\">, <Stream: itag=\"394\" mime_type=\"video/mp4\" res=\"144p\" fps=\"30fps\" vcodec=\"av01.0.00M.08\" progressive=\"False\" type=\"video\">, <Stream: itag=\"139\" mime_type=\"audio/mp4\" abr=\"48kbps\" acodec=\"mp4a.40.5\" progressive=\"False\" type=\"audio\">, <Stream: itag=\"140\" mime_type=\"audio/mp4\" abr=\"128kbps\" acodec=\"mp4a.40.2\" progressive=\"False\" type=\"audio\">, <Stream: itag=\"249\" mime_type=\"audio/webm\" abr=\"50kbps\" acodec=\"opus\" progressive=\"False\" type=\"audio\">, <Stream: itag=\"250\" mime_type=\"audio/webm\" abr=\"70kbps\" acodec=\"opus\" progressive=\"False\" type=\"audio\">, <Stream: itag=\"251\" mime_type=\"audio/webm\" abr=\"160kbps\" acodec=\"opus\" progressive=\"False\" type=\"audio\">]\n"
     ]
    }
   ],
   "source": [
    "from pytube import YouTube\n",
    "yt = YouTube('https://www.youtube.com/watch?v=ZjDZrReZ4EI')\n",
    "print(yt.streams)"
   ]
  },
  {
   "cell_type": "code",
   "execution_count": 5,
   "id": "074cb6b5",
   "metadata": {},
   "outputs": [
    {
     "data": {
      "text/plain": [
       "'ok'"
      ]
     },
     "execution_count": 5,
     "metadata": {},
     "output_type": "execute_result"
    }
   ],
   "source": [
    "import tkinter as tk\n",
    "from tkinter import *\n",
    "from tkinter import messagebox, filedialog\n",
    "messagebox.showinfo(\"SUCCESSFULLY DOWNLOADED AND SAVED IN \\n\" )"
   ]
  },
  {
   "cell_type": "code",
   "execution_count": null,
   "id": "61ec3b44",
   "metadata": {},
   "outputs": [],
   "source": []
  }
 ],
 "metadata": {
  "kernelspec": {
   "display_name": "Python 3",
   "language": "python",
   "name": "python3"
  },
  "language_info": {
   "codemirror_mode": {
    "name": "ipython",
    "version": 3
   },
   "file_extension": ".py",
   "mimetype": "text/x-python",
   "name": "python",
   "nbconvert_exporter": "python",
   "pygments_lexer": "ipython3",
   "version": "3.8.8"
  }
 },
 "nbformat": 4,
 "nbformat_minor": 5
}
